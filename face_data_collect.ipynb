{
 "cells": [
  {
   "cell_type": "code",
   "execution_count": 5,
   "metadata": {},
   "outputs": [
    {
     "name": "stdout",
     "output_type": "stream",
     "text": [
      "Enter the name of the person:Rakesh\n",
      "1\n",
      "2\n",
      "3\n",
      "4\n",
      "5\n",
      "6\n",
      "7\n",
      "8\n",
      "9\n",
      "10\n",
      "11\n",
      "(11, 30000)\n",
      "Data Saved Successfully at ./data/Rakesh.npy\n"
     ]
    }
   ],
   "source": [
    "import cv2\n",
    "import numpy as np\n",
    "\n",
    "# Initialize Camera number 0 (index in case there are multiple)\n",
    "cap = cv2.VideoCapture(0)\n",
    "\n",
    "# Instantiated an object of the classifier\n",
    "face_cascade = cv2.CascadeClassifier(\"haarcascade_frontalface_alt.xml\")\n",
    "\n",
    "# Stores face data\n",
    "face_data = []\n",
    "dataset_path = \"./data/\"\n",
    "\n",
    "#Control fps\n",
    "skip = 0\n",
    "\n",
    "# Label\n",
    "file_name = input(\"Enter the name of the person:\")\n",
    "\n",
    "\n",
    "while True:\n",
    "    try:\n",
    "        # Accept a frame from video being captured\n",
    "        ret, frame = cap.read()\n",
    "        # Skip following code if frame is not accepted\n",
    "        if ret == False:\n",
    "            continue\n",
    "\n",
    "        gray_frame = cv2.cvtColor(frame,cv2.COLOR_BGR2GRAY)\n",
    "\n",
    "        faces = face_cascade.detectMultiScale(frame, 1.3, 5)\n",
    "        faces = sorted(faces, key=lambda f:f[2]*f[3])\n",
    "\n",
    "        for (x,y,w,h) in faces[-1:]:\n",
    "            cv2.rectangle(frame, (x,y), (x+w,y+h),(0,255,255),2)\n",
    "\n",
    "            # Extract the region of interest, Crop out the face\n",
    "            offset = 10\n",
    "            face_section = frame[y-offset:y+h+offset,x-offset:x+w+offset]\n",
    "            face_section = cv2.resize(face_section,(100,100))\n",
    "\n",
    "            skip+=1\n",
    "            if skip%15==0:\n",
    "\n",
    "                face_data.append(face_section)\n",
    "                print(len(face_data))\n",
    "        #cv.imshow\n",
    "\n",
    "\n",
    "        # Display frame\n",
    "        cv2.imshow(\"frame\",frame)\n",
    "        # Display face_section\n",
    "        cv2.imshow(\"face_section\",face_section)\n",
    "\n",
    "        # Converting to 8bit code\n",
    "        key_pressed = cv2.waitKey(1) & 0xFF\n",
    "        # Press q to exit\n",
    "        if key_pressed == ord('q'):\n",
    "            break\n",
    "            \n",
    "    except:\n",
    "        pass\n",
    "\n",
    "\n",
    "        \n",
    "# Convert our face list into nparray\n",
    "face_data = np.asarray(face_data)\n",
    "face_data = face_data.reshape((face_data.shape[0],-1))\n",
    "print(face_data.shape)\n",
    "\n",
    "# Save Face Data in Data folder\n",
    "np.save(dataset_path+file_name+'.npy',face_data)\n",
    "print(\"Data Saved Successfully at \"+dataset_path+file_name+'.npy')\n",
    "\n",
    "\n",
    "# Release camera and close all windows        \n",
    "cap.release()\n",
    "cv2.destroyAllWindows()    \n",
    "        \n",
    "        "
   ]
  },
  {
   "cell_type": "code",
   "execution_count": 2,
   "metadata": {},
   "outputs": [
    {
     "ename": "NameError",
     "evalue": "name 'cap' is not defined",
     "output_type": "error",
     "traceback": [
      "\u001b[0;31m---------------------------------------------------------------------------\u001b[0m",
      "\u001b[0;31mNameError\u001b[0m                                 Traceback (most recent call last)",
      "\u001b[0;32m<ipython-input-2-88838eb68cde>\u001b[0m in \u001b[0;36m<module>\u001b[0;34m\u001b[0m\n\u001b[0;32m----> 1\u001b[0;31m \u001b[0mcap\u001b[0m\u001b[0;34m\u001b[0m\u001b[0;34m\u001b[0m\u001b[0m\n\u001b[0m",
      "\u001b[0;31mNameError\u001b[0m: name 'cap' is not defined"
     ]
    }
   ],
   "source": [
    "cap"
   ]
  },
  {
   "cell_type": "code",
   "execution_count": 2,
   "metadata": {},
   "outputs": [],
   "source": [
    "cap.release()\n",
    "cv2.destroyAllWindows()    \n",
    "        "
   ]
  },
  {
   "cell_type": "code",
   "execution_count": null,
   "metadata": {},
   "outputs": [],
   "source": []
  }
 ],
 "metadata": {
  "kernelspec": {
   "display_name": "Python 3",
   "language": "python",
   "name": "python3"
  },
  "language_info": {
   "codemirror_mode": {
    "name": "ipython",
    "version": 3
   },
   "file_extension": ".py",
   "mimetype": "text/x-python",
   "name": "python",
   "nbconvert_exporter": "python",
   "pygments_lexer": "ipython3",
   "version": "3.7.1"
  }
 },
 "nbformat": 4,
 "nbformat_minor": 2
}
