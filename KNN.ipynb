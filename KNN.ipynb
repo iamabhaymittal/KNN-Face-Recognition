{
 "cells": [
  {
   "cell_type": "code",
   "execution_count": 1,
   "metadata": {},
   "outputs": [],
   "source": [
    "import pandas as pd\n",
    "import numpy as np\n",
    "import matplotlib.pyplot as plt"
   ]
  },
  {
   "cell_type": "code",
   "execution_count": null,
   "metadata": {},
   "outputs": [],
   "source": []
  },
  {
   "cell_type": "code",
   "execution_count": null,
   "metadata": {},
   "outputs": [],
   "source": []
  },
  {
   "cell_type": "code",
   "execution_count": null,
   "metadata": {},
   "outputs": [],
   "source": []
  },
  {
   "cell_type": "markdown",
   "metadata": {},
   "source": [
    "# KNN"
   ]
  },
  {
   "cell_type": "code",
   "execution_count": 3,
   "metadata": {},
   "outputs": [],
   "source": [
    "#pt1 and pt2 are array of features x1,x2,x3...xn\n",
    "def distance(pt1,pt2):\n",
    "    return np.sqrt(sum((pt1-pt2)**2))"
   ]
  },
  {
   "cell_type": "code",
   "execution_count": null,
   "metadata": {},
   "outputs": [],
   "source": [
    "#x is array of features and y is array of outcomes\n",
    "def knn(x,y,query,k):\n",
    "    # m is number of rows in array x\n",
    "    m = x.shape[0]\n",
    "    dist = []\n",
    "    for i in range(m):\n",
    "        #computing distance of query from every row of x\n",
    "        d = distance(query,x[i])\n",
    "        dist.append((d,y[i]))\n",
    "        \n",
    "    dist = sorted(dist)\n",
    "    \n",
    "    # extrac\n",
    "    dist = dist[:k]\n",
    "        "
   ]
  }
 ],
 "metadata": {
  "kernelspec": {
   "display_name": "Python 3",
   "language": "python",
   "name": "python3"
  },
  "language_info": {
   "codemirror_mode": {
    "name": "ipython",
    "version": 3
   },
   "file_extension": ".py",
   "mimetype": "text/x-python",
   "name": "python",
   "nbconvert_exporter": "python",
   "pygments_lexer": "ipython3",
   "version": "3.7.1"
  }
 },
 "nbformat": 4,
 "nbformat_minor": 2
}
